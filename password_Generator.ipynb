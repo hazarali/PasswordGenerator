{
  "nbformat": 4,
  "nbformat_minor": 0,
  "metadata": {
    "colab": {
      "provenance": [],
      "authorship_tag": "ABX9TyNwncQpfUirPJC18twK3TtZ",
      "include_colab_link": true
    },
    "kernelspec": {
      "name": "python3",
      "display_name": "Python 3"
    },
    "language_info": {
      "name": "python"
    }
  },
  "cells": [
    {
      "cell_type": "markdown",
      "metadata": {
        "id": "view-in-github",
        "colab_type": "text"
      },
      "source": [
        "<a href=\"https://colab.research.google.com/github/hazarali/PasswordGenerator/blob/main/password_Generator.ipynb\" target=\"_parent\"><img src=\"https://colab.research.google.com/assets/colab-badge.svg\" alt=\"Open In Colab\"/></a>"
      ]
    },
    {
      "cell_type": "code",
      "execution_count": null,
      "metadata": {
        "id": "axnU06qNYtcH"
      },
      "outputs": [],
      "source": [
        "import string as str\n",
        "import random"
      ]
    },
    {
      "cell_type": "code",
      "source": [
        "digits=str.digits\n",
        "upper_letters=str.ascii_uppercase\n",
        "lower_letters=str.ascii_lowercase\n",
        "ozel_karakterler=str.punctuation\n",
        "\n"
      ],
      "metadata": {
        "id": "xORiVM7TY2j_"
      },
      "execution_count": null,
      "outputs": []
    },
    {
      "cell_type": "code",
      "source": [
        "my_pool=list(digits)+list(upper_letters)+list(lower_letters)+list(ozel_karakterler)"
      ],
      "metadata": {
        "id": "BAOk1aPPZgu9"
      },
      "execution_count": null,
      "outputs": []
    },
    {
      "cell_type": "code",
      "source": [
        "print(my_pool)\n",
        "deneme= random.shuffle(my_pool)\n",
        "print(my_pool)"
      ],
      "metadata": {
        "colab": {
          "base_uri": "https://localhost:8080/"
        },
        "id": "bXAgzIQUZqOW",
        "outputId": "e8a244b7-0910-4162-9cc6-e212468b4902"
      },
      "execution_count": null,
      "outputs": [
        {
          "output_type": "stream",
          "name": "stdout",
          "text": [
            "['U', 'p', ')', 'j', '+', 'c', 'o', \"'\", '%', 'z', 'X', '!', '8', '1', ',', 'T', ']', 'K', '7', 'f', '0', 'J', '@', '-', 'B', 'a', 'r', 'Y', '{', 'I', 'P', 'd', 'M', '}', 'y', '>', '?', 'n', 'w', '4', '[', '=', 'C', 'E', 'k', '*', '/', 'A', 'H', 'b', '6', 'W', '2', 'g', 'q', 'V', '<', 'h', 'e', 'D', 'L', 'N', 'O', 'Z', '^', '&', ':', 'u', 'm', '(', 'R', 's', '5', '#', 'x', 'F', '`', 'v', '.', 'l', '\\\\', 't', '~', '_', 'i', ';', '3', 'Q', 'G', '|', '$', '\"', '9', 'S']\n",
            "['K', '3', 'Q', 'U', 'g', 'Z', '9', '^', 'F', 'e', 'H', '5', '[', 'y', '4', '_', '|', 'I', 'P', 'X', ':', '?', '>', 'q', 'r', 'b', 'h', 'G', '*', 'S', '/', '1', '=', '%', 'a', ']', 'D', 's', 'k', 'J', 'C', 'n', '}', 'L', \"'\", 'N', 'O', '{', 'E', '\\\\', 'j', '8', 'T', '#', 't', 'v', '!', '.', '`', '&', 'M', ';', ',', 'V', 'B', '0', 'Y', 'R', 'W', ')', 'o', 'd', 'w', 'm', '7', 'l', '<', 'u', 'z', '(', 'c', 'i', '+', 'A', '$', '2', 'f', '~', '@', 'x', '6', '\"', 'p', '-']\n"
          ]
        }
      ]
    },
    {
      "cell_type": "code",
      "source": [
        "print(my_pool[0:8])\n"
      ],
      "metadata": {
        "colab": {
          "base_uri": "https://localhost:8080/"
        },
        "id": "YH3ftgMbcDyf",
        "outputId": "79759b0c-55b7-4dc2-9fb5-e1f7bd64bd95"
      },
      "execution_count": null,
      "outputs": [
        {
          "output_type": "stream",
          "name": "stdout",
          "text": [
            "['K', '3', 'Q', 'U', 'g', 'Z', '9', '^']\n"
          ]
        }
      ]
    },
    {
      "cell_type": "code",
      "source": [
        "my_password=\"\".join(my_pool[0:8])\n",
        "print(my_password)"
      ],
      "metadata": {
        "colab": {
          "base_uri": "https://localhost:8080/"
        },
        "id": "i-6D-jUkcso5",
        "outputId": "eda93943-f1fd-4e35-b8d9-3b883043d16b"
      },
      "execution_count": null,
      "outputs": [
        {
          "output_type": "stream",
          "name": "stdout",
          "text": [
            "K3QUgZ9^\n"
          ]
        }
      ]
    },
    {
      "cell_type": "code",
      "source": [],
      "metadata": {
        "id": "dVxrpVwmftyw"
      },
      "execution_count": null,
      "outputs": []
    }
  ]
}